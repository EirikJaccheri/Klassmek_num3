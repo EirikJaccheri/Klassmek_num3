{
 "cells": [
  {
   "cell_type": "markdown",
   "metadata": {},
   "source": [
    "## Klassisk mekanikk numerisk øving 3\n",
    "Eirik Jaccheri Høydalsvik, Hans Gløckner Giil"
   ]
  },
  {
   "cell_type": "code",
   "execution_count": null,
   "metadata": {},
   "outputs": [],
   "source": [
    "import numpy as np\n",
    "import matplotlib.pyplot as plt"
   ]
  },
  {
   "cell_type": "code",
   "execution_count": null,
   "metadata": {},
   "outputs": [],
   "source": [
    "#some constants\n",
    "t0 = 0\n",
    "g = 9.8\n",
    "l = g\n",
    "m = 1\n",
    "q = 0.5\n",
    "omega_d = 2/3\n",
    "omega = np.sqrt(g / l) #NB; we will use omega as a helping constant, and thetaDot as the time-derivative of the angle\n",
    "\n",
    "theta0 = 0.2\n",
    "thetaDot0 = 0\n",
    "u0 = np.array((theta0, thetaDot0))\n",
    "\n",
    "#RK4, solves differential equation f. here: u0 = [theta, theta_dot]\n",
    "def kutta_4(f, u0, t0, tNum, dt, q, F_d, omega_d):\n",
    "    U = np.zeros( ((tNum),  u0.size) )\n",
    "    U[0] = u0\n",
    "    for i in range(1 ,tNum):\n",
    "        F1 = f(i * dt, U[i-1], q, F_d, omega_d)\n",
    "        F2 = f(i * dt + dt / 2, U[i-1] + dt  / 2 * F1, q, F_d, omega_d)\n",
    "        F3 = f(i * dt + dt / 2, U[i-1] + dt / 2 * F2, q, F_d, omega_d)\n",
    "        F4 = f(i * dt + dt, U[i-1] + dt * F3, q, F_d, omega_d)\n",
    "        U[i] = U[i-1] + dt / 6 * (F1 + 2* F2 + 2 * F3 + F4)        \n",
    "    return U\n",
    "\n",
    "def f_driven (t, u, q, F_d , omega_d): #with driving force F(t) / m / l = D_d * sin(omega_d* t) \n",
    "    return np.array([u[1], - omega**2 * np.sin(u[0]) - q * u[1]  + F_d * np.sin(omega_d * t)])\n",
    "\n",
    "\n"
   ]
  },
  {
   "cell_type": "code",
   "execution_count": null,
   "metadata": {},
   "outputs": [],
   "source": [
    "def time_evolve(u0,t0, tNum, dt, q, F_d, omega_d):\n",
    "    t_arr = np.linspace(t0, t0 + dt * tNum, tNum)\n",
    "    u_arr = kutta_4(f_driven, u0, t0, tNum, dt, q, F_d, omega_d)\n",
    "    u_arr = (u_arr + np.pi) % (2*np.pi) - np.pi \n",
    "    return t_arr, u_arr\n",
    "\n",
    "def plot_theta_thetaDot(u0,t0, tNum, dt, q, F_d_arr, omega_d):\n",
    "    \n",
    "    fig, (ax1, ax2) = plt.subplots(2, 1)\n",
    "    fig.suptitle(\"Figure 1\", fontsize = 18,  y = 0)\n",
    "    fig.set_size_inches(12,10)\n",
    "    ax1.set_xlabel(\"Time\", fontsize = 18)\n",
    "    ax1.set_ylabel(\"Angle\", fontsize = 18)\n",
    "    ax2.set_xlabel(\"Time\", fontsize = 18)\n",
    "    ax2.set_ylabel(\"Angular velocity\", fontsize = 18)\n",
    "    \n",
    "    for F_d in F_d_arr:\n",
    "        t_arr, u_arr = time_evolve(u0,t0, tNum, dt, q, F_d, omega_d)\n",
    "        l1, = ax1.plot(t_arr,u_arr.T[0], label = \"$F_d$ = \" + str(F_d))\n",
    "        l2, = ax2.plot(t_arr, u_arr.T[1], label = \"$F_d$ = \" + str(F_d))\n",
    "    plt.tight_layout()\n",
    "    ax1.legend(loc = \"upper left\")\n",
    "    ax2.legend(loc = \"upper left\")\n",
    "    plt.show()\n",
    "    \n",
    "def phase_difference(u0,t0, tNum, dt, q, F_d, omega_d, del_theta):\n",
    "    u0_offset = np.array([u0[0] + del_theta , u0[1]])\n",
    "    \n",
    "    t_arr, u_arr = time_evolve(u0,t0, tNum, dt, q, F_d, omega_d)\n",
    "    t_arr_offset, u_arr_offset = time_evolve(u0_offset,t0, tNum, dt, q, F_d, omega_d)\n",
    "    \n",
    "    del_theta_arr = u_arr.T[0] - u_arr_offset.T[0]\n",
    "    \n",
    "    return  t_arr_offset, u_arr_offset,  del_theta_arr\n",
    "\n",
    "def plot_phase_difference(u0,t0, tNum, dt, q, F_d, omega_d, del_theta, label):\n",
    "    t_arr, u_arr,  del_theta_arr = phase_difference(u0,t0, tNum, dt, q, F_d, omega_d, del_theta)\n",
    "    \n",
    "    fig, ax = plt.subplots()\n",
    "    fig.suptitle(label, y = 0, fontsize = 18)\n",
    "    fig.set_size_inches(8, 5)\n",
    "    ax.semilogy(t_arr,del_theta_arr) \n",
    "    ax.set_xlabel(\"Time\", fontsize = 18)\n",
    "    ax.set_ylabel(\"Angle difference\", fontsize = 18)\n",
    "    plt.tight_layout()\n",
    "    plt.show()\n",
    "    \n",
    "def plot_phase_space(u0,t0, tNum, dt, q, F_d, omega_d):\n",
    "    t_arr, u_arr = time_evolve(u0,t0, tNum, dt, q, F_d, omega_d)\n",
    "    \n",
    "    fig, (ax1,ax2) = plt.subplots(1,2)\n",
    "    ax1.plot(u_arr.T[0],u_arr.T[1])\n",
    "    n = int(2*np.pi / dt / omega_d)\n",
    "    \n",
    "    ax2.plot(u_arr.T[0][0::n],u_arr.T[1][0::n],\".\")"
   ]
  },
  {
   "cell_type": "markdown",
   "metadata": {},
   "source": [
    "## Exercise 1\n",
    "For the whole excercise we will use the constant values: pendulum length $l = 9.8$, mass $m = 1$, gravitational acceleration $g=9.8$,initial angle $\\theta_0 = 0.2$, initial angular velocity $\\omega_0 = 0$, damping parameter $q = 0.5$.\n",
    "Figure 1 shows the angle and the angular velocity for the forced real physical pendulum, using three different values for the driving force $F_d$. The angle is shown in the upper plot, and the angular velocity is shown in the lower plot.  "
   ]
  },
  {
   "cell_type": "code",
   "execution_count": null,
   "metadata": {},
   "outputs": [],
   "source": [
    "dt = 0.05\n",
    "tNum = int(60 / dt)\n",
    "F_d_arr = np.array([0.2, 0.5, 1.2])\n",
    "plot_theta_thetaDot(u0,t0, tNum, dt, q, F_d_arr, omega_d)"
   ]
  },
  {
   "cell_type": "markdown",
   "metadata": {},
   "source": [
    "## Exercise 2\n",
    "Figure 3 and 4 shows the angle difference between the solution from exercise 1, and the solution with initial angle displacement $ \\theta_0 + 0.001$ and zero initial angular velocity, plotted against time. Figure 3 shows the case where $F_d = 0.5$, and figure 4 shows  the case where $F_d = 1.2$. For $F_d = 0.5$, the angle difference decreases with a linear trend with time, and for the case $F_d$ the angle difference increases with a linear tendency with time. The pendulum in Figure 3 shows normal behavior, and Figure 4 shows a chaotic behavior."
   ]
  },
  {
   "cell_type": "code",
   "execution_count": null,
   "metadata": {},
   "outputs": [],
   "source": [
    "dt = 0.05\n",
    "tNum = int(60 / dt)\n",
    "del_theta = 0.001\n",
    "\n",
    "F_d = 0.5\n",
    "plot_phase_difference(u0,t0, tNum, dt, q, F_d, omega_d, del_theta, \"Figure 2\")\n",
    "\n",
    "F_d = 1.2\n",
    "plot_phase_difference(u0,t0, tNum, dt, q, F_d, omega_d, del_theta, \"Figure 3\")"
   ]
  },
  {
   "cell_type": "code",
   "execution_count": null,
   "metadata": {},
   "outputs": [],
   "source": [
    "dt = np.pi / 1000 / omega_d\n",
    "tNum = int(2000/dt)\n",
    "F_d = 1.2\n",
    "plot_phase_space(u0,t0, tNum, dt, q, F_d, omega_d)"
   ]
  }
 ],
 "metadata": {
  "kernelspec": {
   "display_name": "Python 3",
   "language": "python",
   "name": "python3"
  },
  "language_info": {
   "codemirror_mode": {
    "name": "ipython",
    "version": 3
   },
   "file_extension": ".py",
   "mimetype": "text/x-python",
   "name": "python",
   "nbconvert_exporter": "python",
   "pygments_lexer": "ipython3",
   "version": "3.7.1"
  }
 },
 "nbformat": 4,
 "nbformat_minor": 2
}
