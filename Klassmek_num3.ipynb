{
 "cells": [
  {
   "cell_type": "markdown",
   "metadata": {},
   "source": [
    "## Klassisk mekanikk numerisk øving 2\n",
    "Eirik Jaccheri Høydalsvik, Hans Gløckner Giil"
   ]
  },
  {
   "cell_type": "code",
   "execution_count": null,
   "metadata": {},
   "outputs": [],
   "source": [
    "import numpy as np\n",
    "import matplotlib.pyplot as plt"
   ]
  },
  {
   "cell_type": "code",
   "execution_count": null,
   "metadata": {},
   "outputs": [],
   "source": [
    "#some constants\n",
    "t0 = 0\n",
    "g = 9.81\n",
    "l = g\n",
    "m = 1\n",
    "q = 0.5\n",
    "omega_d = 2/3\n",
    "omega = np.sqrt(g / l) #NB; we will use omega as a helping constant, and thetaDot as the time-derivative of the angle\n",
    "\n",
    "theta0 = 0.2\n",
    "thetaDot0 = 0\n",
    "u0 = np.array((theta0, thetaDot0))\n",
    "\n",
    "#RK4, solves differential equation f. here: u0 = [theta, theta_dot]\n",
    "def kutta_4(f, u0, t0, tNum, dt, q, F_d, omega_d):\n",
    "    U = np.zeros( ((tNum),  u0.size) )\n",
    "    U[0] = u0\n",
    "    for i in range(1 ,tNum):\n",
    "        F1 = f(i * dt, U[i-1], q, F_d, omega_d)\n",
    "        F2 = f(i * dt + dt / 2, U[i-1] + dt  / 2 * F1, q, F_d, omega_d)\n",
    "        F3 = f(i * dt + dt / 2, U[i-1] + dt / 2 * F2, q, F_d, omega_d)\n",
    "        F4 = f(i * dt + dt, U[i-1] + dt * F3, q, F_d, omega_d)\n",
    "        U[i] = U[i-1] + dt / 6 * (F1 + 2* F2 + 2 * F3 + F4)        \n",
    "    return U\n",
    "\n",
    "def f_driven (t, u, q, F_d , omega_d): #with driving force F(t) / m / l = D_d * sin(omega_d* t) \n",
    "    return np.array([u[1], - omega**2 * np.sin(u[0]) - q * u[1]  + F_d * np.sin(omega_d * t)])\n",
    "\n",
    "\n",
    "def energy(u_arr): #Y is array containing vectors with theta, thetaDot at different times\n",
    "    return pot(u_arr) + kin(u_arr)\n",
    "\n",
    "def pot(u_arr):\n",
    "    return  m * g * l * u_arr.T[0]**2 / 2\n",
    "\n",
    "def kin(u_arr):\n",
    "    return 0.5 * m * ( l * u_arr.T[1])**2\n",
    "\n",
    "def work(u_arr): #difference between starting energy and energy at different times\n",
    "    return energy(u_arr)[0] - energy(u_arr)"
   ]
  },
  {
   "cell_type": "code",
   "execution_count": null,
   "metadata": {},
   "outputs": [],
   "source": [
    "def time_evolve(u0,t0, tNum, dt, q, F_d, omega_d):\n",
    "    t_arr = np.linspace(t0, t0 + dt * tNum, tNum)\n",
    "    u_arr = kutta_4(f_driven, u0, t0, tNum, dt, q, F_d, omega_d)\n",
    "    u_arr = (u_arr + np.pi) % (2*np.pi) - np.pi \n",
    "    return t_arr, u_arr\n",
    "\n",
    "def plot_theta_3(u0,t0, tNum, dt, q, F_d, omega_d):\n",
    "    t_arr, u_arr = time_evolve(u0,t0, tNum, dt, q, F_d, omega_d)\n",
    "    \n",
    "    fig, ax = plt.subplots()\n",
    "    ax.plot(t_arr,u_arr.T[0])\n",
    "    \n",
    "    plt.tight_layout()\n",
    "    plt.show()\n",
    "    \n",
    "def phase_difference(u0,t0, tNum, dt, q, F_d, omega_d, del_theta):\n",
    "    u0_offset = np.array([u0[0] + del_theta,u0[1]])\n",
    "    \n",
    "    t_arr, u_arr = time_evolve(u0,t0, tNum, dt, q, F_d, omega_d)\n",
    "    t_arr_offset, u_arr_offset = time_evolve(u0_offset,t0, tNum, dt, q, F_d, omega_d)\n",
    "    \n",
    "    del_theta_arr = u_arr.T[0] - u_arr_offset.T[0]\n",
    "    \n",
    "    return  t_arr_offset, u_arr_offset,  del_theta_arr\n",
    "\n",
    "def plot_phase_difference(u0,t0, tNum, dt, q, F_d, omega_d, del_theta):\n",
    "    t_arr, u_arr,  del_theta_arr = phase_difference(u0,t0, tNum, dt, q, F_d, omega_d, del_theta)\n",
    "    \n",
    "    fig, (ax1,ax2) = plt.subplots(1,2)\n",
    "    fig.set_size_inches(10, 8)\n",
    "    ax1.plot(t_arr,u_arr.T[0])\n",
    "    ax2.semilogy(t_arr,del_theta_arr)\n",
    "    \n",
    "    plt.tight_layout()\n",
    "    plt.show()\n",
    "    \n",
    "def plot_phase_space(u0,t0, tNum, dt, q, F_d, omega_d, lw,label):\n",
    "    t_arr, u_arr = time_evolve(u0,t0, tNum, dt, q, F_d, omega_d)\n",
    "    \n",
    "    fig, ax1 = plt.subplots()\n",
    "    fig.set_size_inches(9,5)\n",
    "    fig.suptitle(label,y = 0)\n",
    "    n = int(np.ceil(2*np.pi / dt / omega_d))\n",
    "    \n",
    "    ax1.plot(u_arr.T[0],u_arr.T[1],linewidth = lw, label = \"trajectory in phase space\")\n",
    "    ax1.plot(u_arr.T[0][0::n],u_arr.T[1][0::n],\".\", label = \"Poincare section\")\n",
    "    \n",
    "    \n",
    "    ax1.set_xlabel(\"Angle\",fontsize = 18)\n",
    "    ax1.set_ylabel(\"Angular velocity\",fontsize = 18)\n",
    "    \n",
    "    plt.legend(loc = 1)\n",
    "    plt.tight_layout()\n",
    "    plt.show()"
   ]
  },
  {
   "cell_type": "code",
   "execution_count": null,
   "metadata": {},
   "outputs": [],
   "source": [
    "dt = 0.05\n",
    "tNum = int(60 / dt)\n",
    "F_d = 0.2\n",
    "plot_theta_3(u0,t0, tNum, dt, q, F_d, omega_d)\n",
    "\n",
    "F_d = 0.5\n",
    "plot_theta_3(u0,t0, tNum, dt, q, F_d, omega_d)\n",
    "\n",
    "F_d = 1.2\n",
    "plot_theta_3(u0,t0, tNum, dt, q, F_d, omega_d)"
   ]
  },
  {
   "cell_type": "code",
   "execution_count": null,
   "metadata": {},
   "outputs": [],
   "source": [
    "dt = 0.05\n",
    "tNum = int(60 / dt)\n",
    "\n",
    "del_theta = 0.001\n",
    "\n",
    "F_d = 1.2\n",
    "plot_phase_difference(u0,t0, tNum, dt, q, F_d, omega_d, del_theta)\n",
    "\n",
    "F_d = 0.5\n",
    "plot_phase_difference(u0,t0, tNum, dt, q, F_d, omega_d, del_theta)"
   ]
  },
  {
   "cell_type": "markdown",
   "metadata": {},
   "source": [
    "## Excericse 3\n",
    "Figures 4 and 5 show the trajectory of the pendulum in phase space for driving forces $F_d = 0.5$ and $F_d = 1.2$, the Poincare section is also shown."
   ]
  },
  {
   "cell_type": "code",
   "execution_count": null,
   "metadata": {},
   "outputs": [],
   "source": [
    "dt = np.pi / 1000 / omega_d\n",
    "tNum = int(2000/dt)\n",
    "F_d = 0.5\n",
    "plot_phase_space(u0,t0, tNum, dt, q, F_d, omega_d,0.1,\"Figure 4\")\n",
    "\n",
    "F_d = 1.2\n",
    "plot_phase_space(u0,t0, tNum, dt, q, F_d, omega_d,1,\"Figure 5\")"
   ]
  }
 ],
 "metadata": {
  "kernelspec": {
   "display_name": "Python 3",
   "language": "python",
   "name": "python3"
  },
  "language_info": {
   "codemirror_mode": {
    "name": "ipython",
    "version": 3
   },
   "file_extension": ".py",
   "mimetype": "text/x-python",
   "name": "python",
   "nbconvert_exporter": "python",
   "pygments_lexer": "ipython3",
   "version": "3.7.1"
  }
 },
 "nbformat": 4,
 "nbformat_minor": 2
}
